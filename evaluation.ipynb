{
 "cells": [
  {
   "cell_type": "code",
   "execution_count": 1,
   "id": "intellectual-invite",
   "metadata": {},
   "outputs": [
    {
     "name": "stdout",
     "output_type": "stream",
     "text": [
      "INFO:tensorflow:Enabling eager execution\n",
      "INFO:tensorflow:Enabling v2 tensorshape\n",
      "INFO:tensorflow:Enabling resource variables\n",
      "INFO:tensorflow:Enabling tensor equality\n",
      "INFO:tensorflow:Enabling control flow v2\n"
     ]
    }
   ],
   "source": [
    "import tensorflow as tf\n",
    "from tensorflow.keras import Model\n",
    "from tensorflow import keras\n",
    "from keras.preprocessing.image import ImageDataGenerator\n",
    "import matplotlib.pyplot as plt"
   ]
  },
  {
   "cell_type": "code",
   "execution_count": 2,
   "id": "protective-distinction",
   "metadata": {},
   "outputs": [],
   "source": [
    "model = keras.models.load_model('./../rep_3classes_256dense_augmented_earlystopped')"
   ]
  },
  {
   "cell_type": "code",
   "execution_count": 3,
   "id": "sealed-norwegian",
   "metadata": {},
   "outputs": [
    {
     "name": "stdout",
     "output_type": "stream",
     "text": [
      "Found 3 images belonging to 1 classes.\n"
     ]
    }
   ],
   "source": [
    "test_datagen=ImageDataGenerator(rescale=1./255.)\n",
    "\n",
    "test_generator = test_datagen.flow_from_directory(\n",
    "        './data/test',\n",
    "        target_size=(180, 180),\n",
    "        batch_size=1,\n",
    "        shuffle=False,\n",
    "        class_mode=None)"
   ]
  },
  {
   "cell_type": "code",
   "execution_count": 4,
   "id": "cooked-travel",
   "metadata": {},
   "outputs": [],
   "source": [
    "R = model.predict(test_generator)"
   ]
  },
  {
   "cell_type": "code",
   "execution_count": 5,
   "id": "dedicated-floating",
   "metadata": {},
   "outputs": [
    {
     "name": "stdout",
     "output_type": "stream",
     "text": [
      "down [9.9999976e-01 2.4560254e-07 1.1807394e-12]\n",
      "up [9.8804476e-10 6.4138362e-06 9.9999356e-01]\n",
      "mid [6.1466941e-03 9.9384671e-01 6.6694915e-06]\n"
     ]
    }
   ],
   "source": [
    "import numpy as np\n",
    "classes = ['down', 'mid', 'up']\n",
    "for e in R:\n",
    "    print(classes[np.argmax(e)], e)"
   ]
  }
 ],
 "metadata": {
  "kernelspec": {
   "display_name": "Python 3",
   "language": "python",
   "name": "python3"
  },
  "language_info": {
   "codemirror_mode": {
    "name": "ipython",
    "version": 3
   },
   "file_extension": ".py",
   "mimetype": "text/x-python",
   "name": "python",
   "nbconvert_exporter": "python",
   "pygments_lexer": "ipython3",
   "version": "3.9.3"
  }
 },
 "nbformat": 4,
 "nbformat_minor": 5
}
