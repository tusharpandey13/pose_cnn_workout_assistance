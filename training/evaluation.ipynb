{
 "cells": [
  {
   "cell_type": "code",
   "execution_count": 1,
   "id": "intellectual-invite",
   "metadata": {},
   "outputs": [
    {
     "name": "stdout",
     "output_type": "stream",
     "text": [
      "INFO:tensorflow:Enabling eager execution\n",
      "INFO:tensorflow:Enabling v2 tensorshape\n",
      "INFO:tensorflow:Enabling resource variables\n",
      "INFO:tensorflow:Enabling tensor equality\n",
      "INFO:tensorflow:Enabling control flow v2\n"
     ]
    }
   ],
   "source": [
    "import tensorflow as tf\n",
    "from tensorflow.keras import Model\n",
    "from tensorflow import keras\n",
    "from keras.preprocessing.image import ImageDataGenerator\n",
    "import matplotlib.pyplot as plt"
   ]
  },
  {
   "cell_type": "code",
   "execution_count": 2,
   "id": "protective-distinction",
   "metadata": {},
   "outputs": [],
   "source": [
    "model = keras.models.load_model('./rep_3classes_256dense_augmented_earlystopped')"
   ]
  },
  {
   "cell_type": "code",
   "execution_count": 3,
   "id": "sealed-norwegian",
   "metadata": {},
   "outputs": [
    {
     "name": "stdout",
     "output_type": "stream",
     "text": [
      "Found 53 images belonging to 1 classes.\n"
     ]
    }
   ],
   "source": [
    "test_datagen=ImageDataGenerator(rescale=1./255.)\n",
    "\n",
    "test_generator = test_datagen.flow_from_directory(\n",
    "        './data/test',\n",
    "        target_size=(180, 180),\n",
    "        batch_size=1,\n",
    "        shuffle=False,\n",
    "        class_mode=None)"
   ]
  },
  {
   "cell_type": "code",
   "execution_count": 4,
   "id": "cooked-travel",
   "metadata": {},
   "outputs": [],
   "source": [
    "R = model.predict(test_generator)"
   ]
  },
  {
   "cell_type": "code",
   "execution_count": 6,
   "id": "dedicated-floating",
   "metadata": {},
   "outputs": [
    {
     "name": "stdout",
     "output_type": "stream",
     "text": [
      "down [9.9990022e-01 9.9493474e-05 2.9651710e-07]\n",
      "down [9.9963677e-01 3.5697146e-04 6.1931642e-06]\n",
      "down [9.9996829e-01 3.1557443e-05 1.2784598e-07]\n",
      "down [9.978436e-01 2.089048e-03 6.727349e-05]\n",
      "mid [0.04139675 0.62062806 0.33797517]\n",
      "down [9.9991715e-01 8.2428473e-05 3.6527075e-07]\n",
      "up [2.0080320e-08 1.4642737e-04 9.9985349e-01]\n",
      "down [9.9999964e-01 4.0518697e-07 2.1677693e-11]\n",
      "down [9.9999726e-01 2.7772294e-06 1.8803125e-12]\n",
      "down [9.9999046e-01 9.5799833e-06 4.2507421e-12]\n",
      "down [9.9999511e-01 4.8313796e-06 1.2637798e-11]\n",
      "down [9.9999976e-01 2.4560254e-07 1.1807394e-12]\n",
      "mid [0.10781953 0.87098104 0.02119952]\n",
      "down [9.9962509e-01 3.7405215e-04 8.7682474e-07]\n",
      "up [9.0350438e-10 2.0096566e-04 9.9979907e-01]\n",
      "up [1.2480667e-10 9.2299764e-05 9.9990773e-01]\n",
      "down [9.999987e-01 1.266693e-06 7.827776e-12]\n",
      "down [9.9999762e-01 2.3716586e-06 1.1858224e-11]\n",
      "down [9.999918e-01 8.184684e-06 3.615171e-10]\n",
      "down [9.9899405e-01 9.9118531e-04 1.4814687e-05]\n",
      "down [9.9953485e-01 4.6160069e-04 3.5533737e-06]\n",
      "down [9.8930025e-01 1.0629561e-02 7.0219758e-05]\n",
      "up [9.8804476e-10 6.4138362e-06 9.9999356e-01]\n",
      "up [3.3772594e-06 2.0259810e-03 9.9797064e-01]\n",
      "up [4.8600941e-07 9.2997849e-05 9.9990654e-01]\n",
      "down [9.9999964e-01 3.4198021e-07 3.5958988e-12]\n",
      "down [1.000000e+00 2.157025e-08 8.805340e-14]\n",
      "down [9.9871886e-01 9.3621766e-04 3.4486418e-04]\n",
      "mid [0.0785085  0.92053103 0.00096041]\n",
      "down [9.9999976e-01 1.8298618e-07 9.9955938e-12]\n",
      "down [9.9999845e-01 1.5450288e-06 1.0703299e-11]\n",
      "down [9.9999988e-01 1.7691541e-07 4.1819458e-11]\n",
      "up [9.621966e-09 2.302229e-05 9.999770e-01]\n",
      "down [9.9981743e-01 1.8139817e-04 1.1374624e-06]\n",
      "mid [0.0038626  0.5821938  0.41394362]\n",
      "down [9.9993420e-01 6.5576904e-05 2.9633608e-07]\n",
      "down [9.999341e-01 6.561624e-05 4.167784e-07]\n",
      "up [4.6057951e-07 2.1511107e-04 9.9978441e-01]\n",
      "down [9.9980110e-01 1.9846324e-04 4.4860880e-07]\n",
      "mid [0.13744657 0.4743296  0.3882239 ]\n",
      "down [9.9999571e-01 4.2967022e-06 2.8536867e-12]\n",
      "down [8.3411270e-01 1.6536498e-01 5.2232615e-04]\n",
      "down [9.9982065e-01 1.7637156e-04 2.9220389e-06]\n",
      "up [5.1232914e-06 5.0432008e-04 9.9949050e-01]\n",
      "down [9.9976557e-01 2.3361786e-04 8.7358899e-07]\n",
      "up [1.7553497e-06 2.6636617e-03 9.9733460e-01]\n",
      "down [9.9989676e-01 9.1839102e-05 1.1490529e-05]\n",
      "down [9.9999380e-01 6.1868564e-06 9.0389831e-12]\n",
      "down [9.9996006e-01 3.9904993e-05 2.0208307e-11]\n",
      "down [0.9937742  0.00464569 0.00158009]\n",
      "mid [6.1466941e-03 9.9384671e-01 6.6694915e-06]\n",
      "down [9.9999881e-01 1.2155534e-06 8.4217824e-12]\n",
      "down [9.9999619e-01 3.8691314e-06 2.6924036e-12]\n"
     ]
    }
   ],
   "source": [
    "import numpy as np\n",
    "classes = ['down', 'mid', 'up']\n",
    "for e in R:\n",
    "    print(classes[np.argmax(e)], e)"
   ]
  }
 ],
 "metadata": {
  "kernelspec": {
   "display_name": "Python 3",
   "language": "python",
   "name": "python3"
  },
  "language_info": {
   "codemirror_mode": {
    "name": "ipython",
    "version": 3
   },
   "file_extension": ".py",
   "mimetype": "text/x-python",
   "name": "python",
   "nbconvert_exporter": "python",
   "pygments_lexer": "ipython3",
   "version": "3.9.3"
  }
 },
 "nbformat": 4,
 "nbformat_minor": 5
}
